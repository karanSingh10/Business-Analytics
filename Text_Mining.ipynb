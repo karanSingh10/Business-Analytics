{
  "nbformat": 4,
  "nbformat_minor": 0,
  "metadata": {
    "colab": {
      "provenance": [],
      "authorship_tag": "ABX9TyMLAH2r9KqYKfGs8oGb4i1N",
      "include_colab_link": true
    },
    "kernelspec": {
      "name": "python3",
      "display_name": "Python 3"
    },
    "language_info": {
      "name": "python"
    }
  },
  "cells": [
    {
      "cell_type": "markdown",
      "metadata": {
        "id": "view-in-github",
        "colab_type": "text"
      },
      "source": [
        "<a href=\"https://colab.research.google.com/github/karanSingh10/Business-Analytics/blob/main/Text_Mining.ipynb\" target=\"_parent\"><img src=\"https://colab.research.google.com/assets/colab-badge.svg\" alt=\"Open In Colab\"/></a>"
      ]
    },
    {
      "cell_type": "markdown",
      "source": [
        "##Inforation Retrival\n",
        "One Hot Vector"
      ],
      "metadata": {
        "id": "RDk92_zlhLIE"
      }
    },
    {
      "cell_type": "markdown",
      "source": [
        "Rome = [1, 0, 0, 0]\n",
        "Paris = [0, 1, 0, 0]\n",
        "Italy = [0, 0, 1, 0]\n",
        "France = [0, 0, 0, 1]"
      ],
      "metadata": {
        "id": "YId2HGqkhZTT"
      }
    },
    {
      "cell_type": "markdown",
      "source": [
        "Boolean method\n",
        "If query is [w1, w2, w3]\n",
        "Google Gmail search by [w1 OR w2 OR w3]\n"
      ],
      "metadata": {
        "id": "aMhD_DMViFUB"
      }
    },
    {
      "cell_type": "markdown",
      "source": [
        "Term Document Incidence Matrix\n",
        "\n",
        "\n",
        "> Indented block\n",
        "\n",
        "\n",
        "            Doc1   Doc2   Doc3   Doc4   Doc5\n",
        "\n",
        "\n",
        "> Indented block\n",
        "\n",
        "\n",
        "Word1------1-------1------0------0------0\n",
        "\n",
        "---\n",
        "\n",
        "Word2------1-------0------1------1------0\n",
        "\n",
        "---\n",
        "Word3------1-------1------1------1------0\n",
        "\n",
        "---\n",
        "\n",
        "Word4------1-------1------0------0------1\n",
        "\n",
        "\n"
      ],
      "metadata": {
        "id": "sCs4wm2omhsb"
      }
    },
    {
      "cell_type": "markdown",
      "source": [
        "e.g - If we need to find a document which contains word1, word3 but not word2"
      ],
      "metadata": {
        "id": "p8-dQx6ovKKB"
      }
    },
    {
      "cell_type": "markdown",
      "source": [
        "To answer this question take incidence vecgtors of word1, word3, complement of word2 and take AND of all in this case:\n",
        "\n",
        "\n",
        "---\n",
        "\n",
        "word1 = 11000\n",
        "\n",
        "\n",
        "---\n",
        "\n",
        "word2 = 10110; complement of word2 = 01001\n",
        "\n",
        "\n",
        "---\n",
        "word3 = 11110\n",
        "\n",
        "\n",
        "---\n",
        "word1 AND word2(complement) AND word3 = 11000 AND 01001 AND 11110 = 01000\n",
        "\n",
        "\n",
        "---\n",
        "Hence retrieve only document 2 as it contains word1, word3 and not word2\n",
        "\n",
        "\n"
      ],
      "metadata": {
        "id": "ndgMK3xsywt9"
      }
    },
    {
      "cell_type": "markdown",
      "source": [
        "Pitfalls of this method:\n",
        "\n",
        "\n",
        "> Indented block\n",
        "\n",
        "\n",
        "1.) So in this case if we find all documents containing word1, word3 then filter out all documnets containing word2 then it will computationally expensive there comes Term Document Incidence Matrix and makes work easier\n",
        "\n",
        "\n",
        "> Indented block\n",
        "\n",
        "\n",
        "2.)Counts?\n",
        "\n",
        "\n",
        "> Indented block\n",
        "\n",
        "\n",
        "3.) Ranking of retrieved documents?\n",
        "\n",
        "\n",
        "> Indented block\n",
        "\n",
        "> Indented block\n",
        "\n",
        "\n",
        "\n",
        "\n",
        "4.) Semantics?"
      ],
      "metadata": {
        "id": "imtnY2t-vo6_"
      }
    },
    {
      "cell_type": "markdown",
      "source": [
        "But as number of terms, documents increase this method also becomes very inefficient"
      ],
      "metadata": {
        "id": "KRnuXFwRwGRK"
      }
    },
    {
      "cell_type": "markdown",
      "source": [
        "Term dcument frequency approach; Eucledian distance; angle with eucledian distance to take semantics into account"
      ],
      "metadata": {
        "id": "U8UMdPpyIJ2v"
      }
    },
    {
      "cell_type": "code",
      "source": [
        "# Documents and queries\n",
        "\n",
        "# Condier A, B, C as documents\n",
        "A = \"I go to ASU and work at ASU\"\n",
        "B = \"I work at ASU\"\n",
        "C = \"I study at ASU\"\n",
        "D = \"We applied for a job at UA\"\n",
        "# Query = A user want to search documents related to ASU\n",
        "query_1 = \"ASU\"\n",
        "query_2 = \"work\"\n",
        "query_3 = \"employment\"\n",
        "\n",
        "#Search engine based on a term-doc incidence matrix\n",
        "# Search engine based on term-doc incident matrices\n",
        "from sklearn.feature_extraction.text import CountVectorizer\n",
        "import pandas as pd"
      ],
      "metadata": {
        "id": "3MTiIXlbIlhf"
      },
      "execution_count": 1,
      "outputs": []
    },
    {
      "cell_type": "markdown",
      "source": [
        "#Want to understand more about CountVectorizer\n",
        "\n",
        "\n",
        "---\n",
        "\n",
        "Visit this https://kavita-ganesan.com/how-to-use-countvectorizer/#.Y-Mbjz3MLIU"
      ],
      "metadata": {
        "id": "-XQt6KOELU12"
      }
    },
    {
      "cell_type": "code",
      "source": [
        "vectorizer = CountVectorizer(token_pattern=r'\\S+', binary = True) # use this to capture one-character words other wise use default; # the binary paramter is set to true to ignore \n",
        "X = vectorizer.fit_transform([A,B,C,D])\n",
        "df = pd.DataFrame(X.toarray(), columns = vectorizer.get_feature_names_out(), index = [\"A\", \"B\", \"C\", \"D\"])\n",
        "\n",
        "# print term-doc matrix\n",
        "print(df)\n",
        "\n"
      ],
      "metadata": {
        "colab": {
          "base_uri": "https://localhost:8080/"
        },
        "id": "dmbyZ72gIifB",
        "outputId": "a796a161-20cf-4966-bad4-188e6d891360"
      },
      "execution_count": 2,
      "outputs": [
        {
          "output_type": "stream",
          "name": "stdout",
          "text": [
            "   a  and  applied  asu  at  for  go  i  job  study  to  ua  we  work\n",
            "A  0    1        0    1   1    0   1  1    0      0   1   0   0     1\n",
            "B  0    0        0    1   1    0   0  1    0      0   0   0   0     1\n",
            "C  0    0        0    1   1    0   0  1    0      1   0   0   0     0\n",
            "D  1    0        1    0   1    1   0  0    1      0   0   1   1     0\n"
          ]
        }
      ]
    },
    {
      "cell_type": "code",
      "source": [
        "# when the query is \"ASU\"\n",
        "print(df[(df[query_1.lower()] == 1)])"
      ],
      "metadata": {
        "colab": {
          "base_uri": "https://localhost:8080/"
        },
        "id": "cQ30z1fdPCvG",
        "outputId": "81273dd9-c91b-41f7-f90b-3efb31df480c"
      },
      "execution_count": 3,
      "outputs": [
        {
          "output_type": "stream",
          "name": "stdout",
          "text": [
            "   a  and  applied  asu  at  for  go  i  job  study  to  ua  we  work\n",
            "A  0    1        0    1   1    0   1  1    0      0   1   0   0     1\n",
            "B  0    0        0    1   1    0   0  1    0      0   0   0   0     1\n",
            "C  0    0        0    1   1    0   0  1    0      1   0   0   0     0\n"
          ]
        }
      ]
    },
    {
      "cell_type": "code",
      "source": [
        "# when the query is \"ASU\"\n",
        "print(df[(df[query_1] == 1)]) # try to be aware of these small factors that can produce errors and possibly bias your results (e.g,. if you have both \"asu\" and \"ASU\" and search for \"ASU\", then results with lower-cased \"ASU\" will not appear)"
      ],
      "metadata": {
        "id": "pfG9IwvjPJ_7"
      },
      "execution_count": null,
      "outputs": []
    },
    {
      "cell_type": "code",
      "source": [
        "# when the query consists of mutliple words \"ASU\" and \"work\"\n",
        "print(df[(df[query_1.lower()] == 1) & (df[query_2.lower()] == 1)])\n",
        "#print(df[(df[query_1.lower()] == 1) & (df[query_3] == 1)]) # error when a new word appears # but isn't \"employment\" semantically close to \"work\"?"
      ],
      "metadata": {
        "colab": {
          "base_uri": "https://localhost:8080/"
        },
        "id": "FPYJxXNgPVJy",
        "outputId": "f6de14a5-e3fc-41fa-d6ad-76b138c3aa7b"
      },
      "execution_count": 7,
      "outputs": [
        {
          "output_type": "stream",
          "name": "stdout",
          "text": [
            "   a  and  applied  asu  at  for  go  i  job  study  to  ua  we  work\n",
            "A  0    1        0    1   1    0   1  1    0      0   1   0   0     1\n",
            "B  0    0        0    1   1    0   0  1    0      0   0   0   0     1\n"
          ]
        }
      ]
    },
    {
      "cell_type": "code",
      "source": [
        "Doc1 = \"Messi plays football\"\n",
        "Doc2 = \"His room is messi\"\n",
        "\n",
        "query1 = \"messi\"\n",
        "query2 = \"football\"\n",
        "Vectorizer = CountVectorizer()\n",
        "SMatrix = Vectorizer.fit_transform([Doc1, Doc2])\n",
        "df_matrix = pd.DataFrame(SMatrix.toarray(), columns = Vectorizer.get_feature_names_out(), index = [Doc1, Doc2])\n",
        "\n",
        "print(df_matrix)\n",
        "\n",
        "df_matrix[(df_matrix[query1.lower()] == 1) & (df_matrix[query2.lower()] == 1)]"
      ],
      "metadata": {
        "colab": {
          "base_uri": "https://localhost:8080/",
          "height": 133
        },
        "id": "9Eaqq8VHRXid",
        "outputId": "fddbfbff-14e9-474a-fd03-ed38aefc9fc9"
      },
      "execution_count": 12,
      "outputs": [
        {
          "output_type": "stream",
          "name": "stdout",
          "text": [
            "                      football  his  is  messi  plays  room\n",
            "Messi plays football         1    0   0      1      1     0\n",
            "His room is messi            0    1   1      1      0     1\n"
          ]
        },
        {
          "output_type": "execute_result",
          "data": {
            "text/plain": [
              "                      football  his  is  messi  plays  room\n",
              "Messi plays football         1    0   0      1      1     0"
            ],
            "text/html": [
              "\n",
              "  <div id=\"df-5062c83c-79e3-4c13-9835-e3673d0aeaf4\">\n",
              "    <div class=\"colab-df-container\">\n",
              "      <div>\n",
              "<style scoped>\n",
              "    .dataframe tbody tr th:only-of-type {\n",
              "        vertical-align: middle;\n",
              "    }\n",
              "\n",
              "    .dataframe tbody tr th {\n",
              "        vertical-align: top;\n",
              "    }\n",
              "\n",
              "    .dataframe thead th {\n",
              "        text-align: right;\n",
              "    }\n",
              "</style>\n",
              "<table border=\"1\" class=\"dataframe\">\n",
              "  <thead>\n",
              "    <tr style=\"text-align: right;\">\n",
              "      <th></th>\n",
              "      <th>football</th>\n",
              "      <th>his</th>\n",
              "      <th>is</th>\n",
              "      <th>messi</th>\n",
              "      <th>plays</th>\n",
              "      <th>room</th>\n",
              "    </tr>\n",
              "  </thead>\n",
              "  <tbody>\n",
              "    <tr>\n",
              "      <th>Messi plays football</th>\n",
              "      <td>1</td>\n",
              "      <td>0</td>\n",
              "      <td>0</td>\n",
              "      <td>1</td>\n",
              "      <td>1</td>\n",
              "      <td>0</td>\n",
              "    </tr>\n",
              "  </tbody>\n",
              "</table>\n",
              "</div>\n",
              "      <button class=\"colab-df-convert\" onclick=\"convertToInteractive('df-5062c83c-79e3-4c13-9835-e3673d0aeaf4')\"\n",
              "              title=\"Convert this dataframe to an interactive table.\"\n",
              "              style=\"display:none;\">\n",
              "        \n",
              "  <svg xmlns=\"http://www.w3.org/2000/svg\" height=\"24px\"viewBox=\"0 0 24 24\"\n",
              "       width=\"24px\">\n",
              "    <path d=\"M0 0h24v24H0V0z\" fill=\"none\"/>\n",
              "    <path d=\"M18.56 5.44l.94 2.06.94-2.06 2.06-.94-2.06-.94-.94-2.06-.94 2.06-2.06.94zm-11 1L8.5 8.5l.94-2.06 2.06-.94-2.06-.94L8.5 2.5l-.94 2.06-2.06.94zm10 10l.94 2.06.94-2.06 2.06-.94-2.06-.94-.94-2.06-.94 2.06-2.06.94z\"/><path d=\"M17.41 7.96l-1.37-1.37c-.4-.4-.92-.59-1.43-.59-.52 0-1.04.2-1.43.59L10.3 9.45l-7.72 7.72c-.78.78-.78 2.05 0 2.83L4 21.41c.39.39.9.59 1.41.59.51 0 1.02-.2 1.41-.59l7.78-7.78 2.81-2.81c.8-.78.8-2.07 0-2.86zM5.41 20L4 18.59l7.72-7.72 1.47 1.35L5.41 20z\"/>\n",
              "  </svg>\n",
              "      </button>\n",
              "      \n",
              "  <style>\n",
              "    .colab-df-container {\n",
              "      display:flex;\n",
              "      flex-wrap:wrap;\n",
              "      gap: 12px;\n",
              "    }\n",
              "\n",
              "    .colab-df-convert {\n",
              "      background-color: #E8F0FE;\n",
              "      border: none;\n",
              "      border-radius: 50%;\n",
              "      cursor: pointer;\n",
              "      display: none;\n",
              "      fill: #1967D2;\n",
              "      height: 32px;\n",
              "      padding: 0 0 0 0;\n",
              "      width: 32px;\n",
              "    }\n",
              "\n",
              "    .colab-df-convert:hover {\n",
              "      background-color: #E2EBFA;\n",
              "      box-shadow: 0px 1px 2px rgba(60, 64, 67, 0.3), 0px 1px 3px 1px rgba(60, 64, 67, 0.15);\n",
              "      fill: #174EA6;\n",
              "    }\n",
              "\n",
              "    [theme=dark] .colab-df-convert {\n",
              "      background-color: #3B4455;\n",
              "      fill: #D2E3FC;\n",
              "    }\n",
              "\n",
              "    [theme=dark] .colab-df-convert:hover {\n",
              "      background-color: #434B5C;\n",
              "      box-shadow: 0px 1px 3px 1px rgba(0, 0, 0, 0.15);\n",
              "      filter: drop-shadow(0px 1px 2px rgba(0, 0, 0, 0.3));\n",
              "      fill: #FFFFFF;\n",
              "    }\n",
              "  </style>\n",
              "\n",
              "      <script>\n",
              "        const buttonEl =\n",
              "          document.querySelector('#df-5062c83c-79e3-4c13-9835-e3673d0aeaf4 button.colab-df-convert');\n",
              "        buttonEl.style.display =\n",
              "          google.colab.kernel.accessAllowed ? 'block' : 'none';\n",
              "\n",
              "        async function convertToInteractive(key) {\n",
              "          const element = document.querySelector('#df-5062c83c-79e3-4c13-9835-e3673d0aeaf4');\n",
              "          const dataTable =\n",
              "            await google.colab.kernel.invokeFunction('convertToInteractive',\n",
              "                                                     [key], {});\n",
              "          if (!dataTable) return;\n",
              "\n",
              "          const docLinkHtml = 'Like what you see? Visit the ' +\n",
              "            '<a target=\"_blank\" href=https://colab.research.google.com/notebooks/data_table.ipynb>data table notebook</a>'\n",
              "            + ' to learn more about interactive tables.';\n",
              "          element.innerHTML = '';\n",
              "          dataTable['output_type'] = 'display_data';\n",
              "          await google.colab.output.renderOutput(dataTable, element);\n",
              "          const docLink = document.createElement('div');\n",
              "          docLink.innerHTML = docLinkHtml;\n",
              "          element.appendChild(docLink);\n",
              "        }\n",
              "      </script>\n",
              "    </div>\n",
              "  </div>\n",
              "  "
            ]
          },
          "metadata": {},
          "execution_count": 12
        }
      ]
    },
    {
      "cell_type": "markdown",
      "source": [
        "#Ranked retrieval of documents in vector space"
      ],
      "metadata": {
        "id": "SEhzsvrPxLDN"
      }
    },
    {
      "cell_type": "markdown",
      "source": [
        "Vector space similarity - Cosine similarity"
      ],
      "metadata": {
        "id": "3qkrsaXN-BCg"
      }
    },
    {
      "cell_type": "markdown",
      "source": [],
      "metadata": {
        "id": "S0E0kgH1Hn9d"
      }
    },
    {
      "cell_type": "code",
      "source": [],
      "metadata": {
        "id": "wTYSreKKhOoO"
      },
      "execution_count": null,
      "outputs": []
    }
  ]
}