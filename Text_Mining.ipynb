{
  "nbformat": 4,
  "nbformat_minor": 0,
  "metadata": {
    "colab": {
      "provenance": [],
      "authorship_tag": "ABX9TyMBUGQrkAVfdaJdfb81iCpw",
      "include_colab_link": true
    },
    "kernelspec": {
      "name": "python3",
      "display_name": "Python 3"
    },
    "language_info": {
      "name": "python"
    }
  },
  "cells": [
    {
      "cell_type": "markdown",
      "metadata": {
        "id": "view-in-github",
        "colab_type": "text"
      },
      "source": [
        "<a href=\"https://colab.research.google.com/github/karanSingh10/Business-Analytics/blob/main/Text_Mining.ipynb\" target=\"_parent\"><img src=\"https://colab.research.google.com/assets/colab-badge.svg\" alt=\"Open In Colab\"/></a>"
      ]
    },
    {
      "cell_type": "markdown",
      "source": [
        "##Inforation Retrival\n",
        "One Hot Vector"
      ],
      "metadata": {
        "id": "RDk92_zlhLIE"
      }
    },
    {
      "cell_type": "markdown",
      "source": [
        "Rome = [1, 0, 0, 0]\n",
        "Paris = [0, 1, 0, 0]\n",
        "Italy = [0, 0, 1, 0]\n",
        "France = [0, 0, 0, 1]"
      ],
      "metadata": {
        "id": "YId2HGqkhZTT"
      }
    },
    {
      "cell_type": "markdown",
      "source": [
        "Boolean method\n",
        "If query is [w1, w2, w3]\n",
        "Google Gmail search by [w1 OR w2 OR w3]\n"
      ],
      "metadata": {
        "id": "aMhD_DMViFUB"
      }
    },
    {
      "cell_type": "markdown",
      "source": [
        "Term Document Incidence Matrix\n",
        "\n",
        "\n",
        "> Indented block\n",
        "\n",
        "\n",
        "            Doc1   Doc2   Doc3   Doc4   Doc5\n",
        "\n",
        "\n",
        "> Indented block\n",
        "\n",
        "\n",
        "Word1------1-------1------0------0------0\n",
        "\n",
        "---\n",
        "\n",
        "Word2------1-------0------1------1------0\n",
        "\n",
        "---\n",
        "Word3------1-------1------1------1------0\n",
        "\n",
        "---\n",
        "\n",
        "Word4------1-------1------0------0------1\n",
        "\n",
        "\n"
      ],
      "metadata": {
        "id": "sCs4wm2omhsb"
      }
    },
    {
      "cell_type": "markdown",
      "source": [
        "e.g - If we need to find a document which contains word1, word3 but not word2"
      ],
      "metadata": {
        "id": "p8-dQx6ovKKB"
      }
    },
    {
      "cell_type": "markdown",
      "source": [
        "So in this case if we find all documents containing word1, word3 then filter out all documnets containing word2 then it will computationally expensive there comes Term Document Incidence Matrix and makes work easier"
      ],
      "metadata": {
        "id": "imtnY2t-vo6_"
      }
    },
    {
      "cell_type": "markdown",
      "source": [
        "But as number of terms, documents increase this method also becomes very inefficient"
      ],
      "metadata": {
        "id": "KRnuXFwRwGRK"
      }
    },
    {
      "cell_type": "markdown",
      "source": [],
      "metadata": {
        "id": "SEhzsvrPxLDN"
      }
    },
    {
      "cell_type": "code",
      "source": [],
      "metadata": {
        "id": "wTYSreKKhOoO"
      },
      "execution_count": null,
      "outputs": []
    }
  ]
}